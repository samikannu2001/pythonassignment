{
  "nbformat": 4,
  "nbformat_minor": 0,
  "metadata": {
    "colab": {
      "name": "sample.ipynb",
      "provenance": [],
      "include_colab_link": true
    },
    "kernelspec": {
      "name": "python3",
      "display_name": "Python 3"
    }
  },
  "cells": [
    {
      "cell_type": "markdown",
      "metadata": {
        "id": "view-in-github",
        "colab_type": "text"
      },
      "source": [
        "<a href=\"https://colab.research.google.com/github/samikannu2001/pythonassignment/blob/main/python%20assignment-3%20.ipynb\" target=\"_parent\"><img src=\"https://colab.research.google.com/assets/colab-badge.svg\" alt=\"Open In Colab\"/></a>"
      ]
    },
    {
      "cell_type": "code",
      "metadata": {
        "id": "CuRNoLh6lZUk",
        "colab": {
          "base_uri": "https://localhost:8080/"
        },
        "outputId": "89929399-95ab-4c1e-f7c6-e934e2dcb45c"
      },
      "source": [
        "def max_of_two( x, y ):\n",
        "    if x > y:\n",
        "        return x\n",
        "    return y\n",
        "def max_of_three( x, y, z ):\n",
        "    return max_of_two( x, max_of_two( y, z ) )\n",
        "print(max_of_three(3, 6, -5))"
      ],
      "execution_count": 5,
      "outputs": [
        {
          "output_type": "stream",
          "text": [
            "6\n"
          ],
          "name": "stdout"
        }
      ]
    },
    {
      "cell_type": "code",
      "metadata": {
        "id": "EeHJOKJWmY4J",
        "colab": {
          "base_uri": "https://localhost:8080/"
        },
        "outputId": "72a09d42-1bf9-462c-b84a-6e712b7cc7e8"
      },
      "source": [
        "def isPalindrome(string):\r\n",
        "\tleft_pos = 0\r\n",
        "\tright_pos = len(string) - 1\r\n",
        "\t\r\n",
        "\twhile right_pos >= left_pos:\r\n",
        "\t\tif not string[left_pos] == string[right_pos]:\r\n",
        "\t\t\treturn False\r\n",
        "\t\tleft_pos += 1\r\n",
        "\t\tright_pos -= 1\r\n",
        "\treturn True\r\n",
        "print(isPalindrome('aza'))"
      ],
      "execution_count": 6,
      "outputs": [
        {
          "output_type": "stream",
          "text": [
            "True\n"
          ],
          "name": "stdout"
        }
      ]
    },
    {
      "cell_type": "code",
      "metadata": {
        "id": "W9BORcRhqE9g",
        "outputId": "1833930e-43a7-42ce-94ee-f83e2864353a",
        "colab": {
          "base_uri": "https://localhost:8080/"
        }
      },
      "source": [
        "def string_test(s):\r\n",
        "    d={\"UPPER_CASE\":0, \"LOWER_CASE\":0}\r\n",
        "    for c in s:\r\n",
        "        if c.isupper():\r\n",
        "           d[\"UPPER_CASE\"]+=1\r\n",
        "        elif c.islower():\r\n",
        "           d[\"LOWER_CASE\"]+=1\r\n",
        "        else:\r\n",
        "           pass\r\n",
        "    print (\"Original String : \", s)\r\n",
        "    print (\"No. of Upper case characters : \", d[\"UPPER_CASE\"])\r\n",
        "    print (\"No. of Lower case Characters : \", d[\"LOWER_CASE\"])\r\n",
        "\r\n",
        "string_test('The quick Brown Fox')"
      ],
      "execution_count": 7,
      "outputs": [
        {
          "output_type": "stream",
          "text": [
            "Original String :  The quick Brown Fox\n",
            "No. of Upper case characters :  3\n",
            "No. of Lower case Characters :  13\n"
          ],
          "name": "stdout"
        }
      ]
    },
    {
      "cell_type": "code",
      "metadata": {
        "id": "Pf_Jac_wqVi8",
        "outputId": "ae5b7008-27b3-42fd-89b8-b3917076f69b",
        "colab": {
          "base_uri": "https://localhost:8080/"
        }
      },
      "source": [
        "def sum(numbers):\r\n",
        "    total = 0\r\n",
        "    for x in numbers:\r\n",
        "        total += x\r\n",
        "    return total\r\n",
        "print(sum((8, 2, 3, 0, 7)))\r\n"
      ],
      "execution_count": 8,
      "outputs": [
        {
          "output_type": "stream",
          "text": [
            "20\n"
          ],
          "name": "stdout"
        }
      ]
    },
    {
      "cell_type": "code",
      "metadata": {
        "id": "08jAuX_YqVut",
        "outputId": "8644b73f-7671-4d3d-f6b0-31244396decc",
        "colab": {
          "base_uri": "https://localhost:8080/"
        }
      },
      "source": [
        "def multiply(numbers):  \r\n",
        "    total = 1\r\n",
        "    for x in numbers:\r\n",
        "        total *= x  \r\n",
        "    return total  \r\n",
        "print(multiply((8, 2, 3, -1, 7)))"
      ],
      "execution_count": 9,
      "outputs": [
        {
          "output_type": "stream",
          "text": [
            "-336\n"
          ],
          "name": "stdout"
        }
      ]
    },
    {
      "cell_type": "code",
      "metadata": {
        "id": "Yww5mST4qxSd",
        "outputId": "9f35a9e8-c7b9-4338-a210-dfe7c35bc703",
        "colab": {
          "base_uri": "https://localhost:8080/"
        }
      },
      "source": [
        "def unique_list(l):\r\n",
        "  x = []\r\n",
        "  for a in l:\r\n",
        "    if a not in x:\r\n",
        "      x.append(a)\r\n",
        "  return x\r\n",
        "\r\n",
        "print(unique_list([1,2,3,3,3,3,4,5]))"
      ],
      "execution_count": 10,
      "outputs": [
        {
          "output_type": "stream",
          "text": [
            "[1, 2, 3, 4, 5]\n"
          ],
          "name": "stdout"
        }
      ]
    }
  ]
}