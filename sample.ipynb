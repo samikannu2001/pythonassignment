{
  "nbformat": 4,
  "nbformat_minor": 0,
  "metadata": {
    "colab": {
      "name": "sample.ipynb",
      "provenance": [],
      "include_colab_link": true
    },
    "kernelspec": {
      "name": "python3",
      "display_name": "Python 3"
    }
  },
  "cells": [
    {
      "cell_type": "markdown",
      "metadata": {
        "id": "view-in-github",
        "colab_type": "text"
      },
      "source": [
        "<a href=\"https://colab.research.google.com/github/samikannu2001/pythonassignment/blob/main/sample.ipynb\" target=\"_parent\"><img src=\"https://colab.research.google.com/assets/colab-badge.svg\" alt=\"Open In Colab\"/></a>"
      ]
    },
    {
      "cell_type": "code",
      "metadata": {
        "id": "CuRNoLh6lZUk",
        "colab": {
          "base_uri": "https://localhost:8080/"
        },
        "outputId": "94a741f1-c469-4c49-9328-701b11bb39f1"
      },
      "source": [
        "x=int(input(\"Enter the number: \"))\n",
        "y=(2*x+5)/(x**2+5*x+6)\n",
        "print(\"Result is: \",y)\n",
        "\n"
      ],
      "execution_count": 2,
      "outputs": [
        {
          "output_type": "stream",
          "text": [
            "Enter the number: 5\n",
            "Result is:  0.26785714285714285\n"
          ],
          "name": "stdout"
        }
      ]
    },
    {
      "cell_type": "code",
      "metadata": {
        "id": "_tlyQm9NWj62",
        "outputId": "6468d83b-c960-45c6-c6b1-b81b655ad74c",
        "colab": {
          "base_uri": "https://localhost:8080/"
        }
      },
      "source": [
        "x=int(input(\"Enter the number: \"))\r\n",
        "y=(x**2+5*x+6)/(2*x+5)\r\n",
        "print(\"Result is: \",y)\r\n"
      ],
      "execution_count": 3,
      "outputs": [
        {
          "output_type": "stream",
          "text": [
            "Enter the number: 5\n",
            "Result is:  3.7333333333333334\n"
          ],
          "name": "stdout"
        }
      ]
    },
    {
      "cell_type": "code",
      "metadata": {
        "id": "1z8ChGr3WkQ4",
        "outputId": "0914656a-ea4c-438b-f590-47a0de1cb846",
        "colab": {
          "base_uri": "https://localhost:8080/"
        }
      },
      "source": [
        "x=int(input(\"Enter the number: \"))\r\n",
        "y=(2*x-3)*(x+9)\r\n",
        "print(\"Result is: \",y)\r\n"
      ],
      "execution_count": 4,
      "outputs": [
        {
          "output_type": "stream",
          "text": [
            "Enter the number: 5\n",
            "Result is:  98\n"
          ],
          "name": "stdout"
        }
      ]
    },
    {
      "cell_type": "code",
      "metadata": {
        "id": "hV3dncbIY6Ka",
        "outputId": "fd03d81e-763e-4a82-b6ee-2debda80485b",
        "colab": {
          "base_uri": "https://localhost:8080/"
        }
      },
      "source": [
        "print(\"Enter correct username and password combo to continue\")\r\n",
        "count=0\r\n",
        "password=\"tamil\"\r\n",
        "username=\"tamil\"\r\n",
        "\r\n",
        "while password!='Hytu76E' and username!='bank_admin' and count<4:\r\n",
        "    username=input(\"Enter username: \") \r\n",
        "    password=input(\"Enter password: \")\r\n",
        "\r\n",
        "    if password=='tamil' and username=='tamil':\r\n",
        "     print('Access granted')\r\n",
        "\r\n",
        "    else:\r\n",
        "        print('Access denied. Try again.')\r\n",
        "        count-=1"
      ],
      "execution_count": null,
      "outputs": [
        {
          "output_type": "stream",
          "text": [
            "Enter correct username and password combo to continue\n",
            "Enter username: aaa\n",
            "Enter password: sss\n",
            "Access denied. Try again.\n",
            "Enter username: sami\n",
            "Enter password: sami\n",
            "Access denied. Try again.\n",
            "Enter username: rrr\n",
            "Enter password: eee\n",
            "Access denied. Try again.\n"
          ],
          "name": "stdout"
        }
      ]
    },
    {
      "cell_type": "code",
      "metadata": {
        "id": "EeHJOKJWmY4J"
      },
      "source": [
        ""
      ],
      "execution_count": null,
      "outputs": []
    }
  ]
}