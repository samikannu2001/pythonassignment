{
  "nbformat": 4,
  "nbformat_minor": 0,
  "metadata": {
    "colab": {
      "name": "sample.ipynb",
      "provenance": [],
      "include_colab_link": true
    },
    "kernelspec": {
      "name": "python3",
      "display_name": "Python 3"
    }
  },
  "cells": [
    {
      "cell_type": "markdown",
      "metadata": {
        "id": "view-in-github",
        "colab_type": "text"
      },
      "source": [
        "<a href=\"https://colab.research.google.com/github/samikannu2001/pythonassignment/blob/main/pythonassignment2.ipynb\" target=\"_parent\"><img src=\"https://colab.research.google.com/assets/colab-badge.svg\" alt=\"Open In Colab\"/></a>"
      ]
    },
    {
      "cell_type": "code",
      "metadata": {
        "id": "CuRNoLh6lZUk",
        "colab": {
          "base_uri": "https://localhost:8080/"
        },
        "outputId": "42f2b838-4fcd-4d5c-942d-079e5674a093"
      },
      "source": [
        "test_list=[1,5,3,6,3,5,6,1]\n",
        "print(\"The original list is:\" + str(test_list))\n",
        "test_list=list(set(test_list))\n",
        "print(\"the list after removing duplicates\" + str(test_list))"
      ],
      "execution_count": 1,
      "outputs": [
        {
          "output_type": "stream",
          "text": [
            "The original list is:[1, 5, 3, 6, 3, 5, 6, 1]\n",
            "the list after removing duplicates[1, 3, 5, 6]\n"
          ],
          "name": "stdout"
        }
      ]
    },
    {
      "cell_type": "code",
      "metadata": {
        "id": "EeHJOKJWmY4J",
        "colab": {
          "base_uri": "https://localhost:8080/"
        },
        "outputId": "b4ec36f3-266a-481a-9a72-92db088032e9"
      },
      "source": [
        "list1 = [1, 3, 5, 7, 9]\r\n",
        "list2=[1, 2, 4, 6, 7, 8]\r\n",
        "diff_list1_list2 = list(set(list1) - set(list2))\r\n",
        "diff_list2_list1 = list(set(list2) - set(list1))\r\n",
        "total_diff = diff_list1_list2 + diff_list2_list1\r\n",
        "print(total_diff)"
      ],
      "execution_count": 2,
      "outputs": [
        {
          "output_type": "stream",
          "text": [
            "[9, 3, 5, 8, 2, 4, 6]\n"
          ],
          "name": "stdout"
        }
      ]
    },
    {
      "cell_type": "code",
      "metadata": {
        "id": "se7zeij0n6BB",
        "outputId": "2f49b4e3-dc6d-447d-baaa-f29dab60dea7",
        "colab": {
          "base_uri": "https://localhost:8080/"
        }
      },
      "source": [
        "import collections\r\n",
        "my_list = [10,10,10,10,20,20,20,20,40,40,50,50,30]\r\n",
        "print(\"Original List : \",my_list)\r\n",
        "ctr = collections.Counter(my_list)\r\n",
        "print(\"Frequency of the elements in the List : \",ctr)\r\n"
      ],
      "execution_count": 3,
      "outputs": [
        {
          "output_type": "stream",
          "text": [
            "Original List :  [10, 10, 10, 10, 20, 20, 20, 20, 40, 40, 50, 50, 30]\n",
            "Frequency of the elements in the List :  Counter({10: 4, 20: 4, 40: 2, 50: 2, 30: 1})\n"
          ],
          "name": "stdout"
        }
      ]
    },
    {
      "cell_type": "code",
      "metadata": {
        "id": "hQZHygo6oCnt",
        "outputId": "7b4c631d-9b76-40ba-c9d4-fabf2d721cba",
        "colab": {
          "base_uri": "https://localhost:8080/"
        }
      },
      "source": [
        "from collections import Counter\r\n",
        "color1 = [\"red\", \"orange\", \"green\", \"blue\", \"white\"]\r\n",
        "color2 = [\"black\", \"yellow\", \"green\", \"blue\"]\r\n",
        "counter1 = Counter(color1)\r\n",
        "counter2 = Counter(color2)\r\n",
        "print(\"Color1-Color2: \",list(counter1 - counter2))\r\n",
        "print(\"Color2-Color1: \",list(counter2 - counter1))"
      ],
      "execution_count": 4,
      "outputs": [
        {
          "output_type": "stream",
          "text": [
            "Color1-Color2:  ['red', 'orange', 'white']\n",
            "Color2-Color1:  ['black', 'yellow']\n"
          ],
          "name": "stdout"
        }
      ]
    }
  ]
}